{
 "cells": [
  {
   "cell_type": "code",
   "execution_count": null,
   "metadata": {},
   "outputs": [],
   "source": [
    "import pandas as pd"
   ]
  },
  {
   "cell_type": "code",
   "execution_count": null,
   "metadata": {},
   "outputs": [],
   "source": [
    "import requests"
   ]
  },
  {
   "cell_type": "code",
   "execution_count": null,
   "metadata": {},
   "outputs": [],
   "source": [
    "aishub_data1 = pd.DataFrame(columns=[\"Id\", \"Status\", \"Uptime\", \"Country\", \"Location\", \"Ships\",\"Distinct\",\"Contributor\"])\n",
    "for page in range(1,21):\n",
    "    page = requests.get(r'https://www.aishub.net/stations?Station%5BSID%5D=&Station%5Bstatus%5D=0&Station%5Buptime%5D=&Station%5BCOUNTRY%5D=&Station%5BLOCATION%5D=&Station%5BCOUNT%5D=&Station%5BDISTINCT%5D=&page='+str(page))\n",
    "    soup = BeautifulSoup(page.content, 'html.parser')\n",
    "    title = soup.title.text\n",
    "    \n",
    "    for row in soup.find(\"tbody\").find_all(\"tr\"):\n",
    "        col = row.find_all(\"td\")\n",
    "        Id = col[0].text\n",
    "        Status = col[1].text\n",
    "        Uptime = col[2].text\n",
    "        Country = col[3].text\n",
    "        Location = col[4].text\n",
    "        Ships = col[5].text\n",
    "        Distinct = col[6].text\n",
    "        Contributor=col[7].text\n",
    "        aishub_data1 = aishub_data1.append({\"Id\":Id, \"Status\":Status, \"Uptime\":Uptime, \"Country\":Country, \"Location\":Location, \"Ships\":Ships, \"Distinct\":Distinct, \"Contributor\":Contributor}, ignore_index=True)  "
   ]
  },
  {
   "cell_type": "code",
   "execution_count": null,
   "metadata": {},
   "outputs": [],
   "source": [
    "aishub_data1"
   ]
  },
  {
   "cell_type": "code",
   "execution_count": null,
   "metadata": {},
   "outputs": [],
   "source": [
    "aishub_data1.info()"
   ]
  },
  {
   "cell_type": "code",
   "execution_count": null,
   "metadata": {},
   "outputs": [],
   "source": [
    "gfg_csv_data = aishub_data1.to_csv('aishub_data.csv', index = True)"
   ]
  }
 ],
 "metadata": {
  "kernelspec": {
   "display_name": "Python 3",
   "language": "python",
   "name": "python3"
  },
  "language_info": {
   "codemirror_mode": {
    "name": "ipython",
    "version": 3
   },
   "file_extension": ".py",
   "mimetype": "text/x-python",
   "name": "python",
   "nbconvert_exporter": "python",
   "pygments_lexer": "ipython3",
   "version": "3.7.6"
  }
 },
 "nbformat": 4,
 "nbformat_minor": 4
}
